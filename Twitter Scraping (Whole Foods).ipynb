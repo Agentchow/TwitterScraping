{
 "cells": [
  {
   "cell_type": "code",
   "execution_count": null,
   "metadata": {},
   "outputs": [],
   "source": [
    "import snscrape.modules.twitter as sntwitter\n",
    "import pandas as pd\n"
   ]
  },
  {
   "cell_type": "code",
   "execution_count": null,
   "metadata": {},
   "outputs": [],
   "source": [
    "tweets_list1 = []"
   ]
  },
  {
   "cell_type": "code",
   "execution_count": null,
   "metadata": {},
   "outputs": [],
   "source": [
    "sntwitter"
   ]
  },
  {
   "cell_type": "code",
   "execution_count": null,
   "metadata": {},
   "outputs": [],
   "source": [
    "for i,tweet in enumerate(sntwitter.TwitterSearchScraper('Wegmans since:2020-03-01 until:2020-12-31').get_items()):\n",
    "    if i>1000:\n",
    "        break\n",
    "    tweets_list1.append([tweet.date, tweet.id, tweet.content])"
   ]
  },
  {
   "cell_type": "code",
   "execution_count": null,
   "metadata": {},
   "outputs": [],
   "source": [
    "tweets_df1 = pd.DataFrame(tweets_list1, columns=['Datetime', 'Tweet Id', 'Content'])\n"
   ]
  },
  {
   "cell_type": "code",
   "execution_count": null,
   "metadata": {},
   "outputs": [],
   "source": [
    "tweets_df1.head()"
   ]
  },
  {
   "cell_type": "code",
   "execution_count": null,
   "metadata": {},
   "outputs": [],
   "source": [
    "tweets_df1.dropna(inplace = True)\n",
    "\n",
    "tweets_wegmans = tweets_df1[tweets_df1['Content'].str.contains(\"Wegmans\")]\n",
    "\n",
    "pd.set_option('display.max_colwidth', None)\n",
    "\n",
    "tweets_wegmans\n",
    "\n"
   ]
  },
  {
   "cell_type": "code",
   "execution_count": null,
   "metadata": {},
   "outputs": [],
   "source": [
    "!pip3 install -U emoji\n",
    "import emoji\n",
    "import regex"
   ]
  },
  {
   "cell_type": "code",
   "execution_count": null,
   "metadata": {},
   "outputs": [],
   "source": [
    "def get_emojis(text):\n",
    "    emoji_list = []\n",
    "    data = regex.findall(r'\\X', text)\n",
    "    for word in data:\n",
    "        if any(char in emoji.UNICODE_EMOJI[\"en\"] for char in word):\n",
    "            emoji_list.append(word)\n",
    "\n",
    "    return emoji_list"
   ]
  },
  {
   "cell_type": "code",
   "execution_count": null,
   "metadata": {},
   "outputs": [],
   "source": [
    "emoji_list = get_emojis(tweets_df1.Content[348])\n",
    "print(' '.join(e for e in emoji_list))"
   ]
  },
  {
   "cell_type": "code",
   "execution_count": null,
   "metadata": {},
   "outputs": [],
   "source": [
    "tweets_df1['emojis'] = tweets_df1['Content'].apply(get_emojis)"
   ]
  },
  {
   "cell_type": "code",
   "execution_count": null,
   "metadata": {
    "scrolled": true
   },
   "outputs": [],
   "source": [
    "display(tweets_df1.iloc[348])"
   ]
  },
  {
   "cell_type": "code",
   "execution_count": null,
   "metadata": {},
   "outputs": [],
   "source": [
    "import re"
   ]
  },
  {
   "cell_type": "code",
   "execution_count": null,
   "metadata": {},
   "outputs": [],
   "source": [
    "pat1 = r\"http\\S+\"\n",
    "pat2 = r\"#\"\n",
    "pat3 = r\"@\"\n",
    "pat4 = r\"FAV\"\n",
    "pat5 = r\"RE\"\n",
    "pat6 = r\"pic.\\S+\"\n",
    "pat7 = r\"\\n\"\n",
    "pat8 = '\\r\\n'\n",
    "pat9 = r'|'.join((r'&amp;',r'&copy;',r'&reg;',r'&quot;',r'&gt;',r'&lt;',r'&nbsp;',r'&apos;',r'&cent;',r'&euro;',r'&pound;'))\n",
    "combined_pat = r'|'.join((pat1, pat2, pat3, pat4, pat5, pat6, pat7, pat8, pat9))\n"
   ]
  },
  {
   "cell_type": "code",
   "execution_count": null,
   "metadata": {},
   "outputs": [],
   "source": [
    "tweets_df1['stripped'] =  [re.sub(combined_pat, '', w) for w in tweets_df1.Content]\n",
    "tweets_df1['stripped']  = [re.sub(r\"  \", ' ', w) for w in tweets_df1.loc[:,'stripped']]\n",
    "for i in range(340,352):\n",
    "    print(tweets_df1.stripped[i])\n",
    "    print('\\n')"
   ]
  },
  {
   "cell_type": "code",
   "execution_count": null,
   "metadata": {},
   "outputs": [],
   "source": [
    "for i in range(348):\n",
    "    print(tweets_df1.stripped[i])\n",
    "    print('\\n')"
   ]
  },
  {
   "cell_type": "code",
   "execution_count": null,
   "metadata": {},
   "outputs": [],
   "source": [
    "!pip install vaderSentiment \n",
    "from vaderSentiment.vaderSentiment import SentimentIntensityAnalyzer\n",
    "import numpy as np\n",
    "analyser = SentimentIntensityAnalyzer()\n",
    "\n",
    "# Now get the compound sentiment score for each tweet\n",
    "tweets_df1['C_Score'] = np.nan\n",
    "for index, row in tweets_df1.iterrows(): \n",
    "    tweets_df1.loc[index, 'C_Score'] = analyser.polarity_scores(row['stripped'])['compound']\n",
    "# Let's take a look!\n",
    "pd.set_option('display.max_colwidth', None)\n",
    "tweets_df1[['stripped','C_Score']][340:352]"
   ]
  },
  {
   "cell_type": "code",
   "execution_count": null,
   "metadata": {},
   "outputs": [],
   "source": [
    "print(f\"Count positive tweets: {sum(tweets_df1['C_Score'] > 0.05)}\")\n",
    "print(f\"Count netural tweets: {tweets_df1['C_Score'].between(-0.05, 0.05).sum()}\")\n",
    "print(f\"Count negative tweets: {sum(tweets_df1['C_Score'] < -0.05)}\")\n",
    "print(f\"Total number of tweets: {tweets_df1['C_Score'].count()}\")\n",
    "      \n",
    "display(tweets_df1.C_Score.describe())"
   ]
  },
  {
   "cell_type": "code",
   "execution_count": null,
   "metadata": {},
   "outputs": [],
   "source": [
    "# import necessary modules (if not already imported)\n",
    "import matplotlib.pyplot as plt\n",
    "import seaborn as sns\n",
    "\n",
    "# settings for seaborn plotting style\n",
    "sns.set(color_codes=True)\n",
    "\n",
    "# settings for seaborn plot sizes\n",
    "sns.set(rc={'figure.figsize':(5,5)})\n",
    "\n",
    "# Create Histogram\n",
    "ax = sns.histplot(tweets_df1['C_Score'],\n",
    "                  bins=10,\n",
    "                  kde=False,\n",
    "                  color='skyblue')\n",
    "ax.set(xlabel='Sentiment Distribution', ylabel='Frequency')"
   ]
  },
  {
   "cell_type": "code",
   "execution_count": null,
   "metadata": {},
   "outputs": [],
   "source": [
    "# create new column\n",
    "tweets_df1['Sentiment'] = np.nan\n",
    "\n",
    "# Loop through rows of dataframe and determine strings for new column \"Sentiment\"\n",
    "for index, row in tweets_df1.iterrows(): \n",
    "    if tweets_df1.loc[index, 'C_Score'] > 0.05 : \n",
    "            tweets_df1.loc[index, 'Sentiment'] = \"Positive\"       \n",
    "    elif tweets_df1.loc[index, 'C_Score'] < -0.05 :\n",
    "            tweets_df1.loc[index, 'Sentiment'] = \"Negative\"   \n",
    "    else : \n",
    "        tweets_df1.loc[index, 'Sentiment'] = \"Neutral\"\n",
    "\n",
    "tweets_df1['Sentiment'] = tweets_df1['Sentiment'].astype(\"category\")"
   ]
  },
  {
   "cell_type": "code",
   "execution_count": null,
   "metadata": {},
   "outputs": [],
   "source": [
    "tweets_df1[['stripped','C_Score', 'Sentiment']].tail(25)"
   ]
  },
  {
   "cell_type": "code",
   "execution_count": null,
   "metadata": {},
   "outputs": [],
   "source": [
    "# import necessary modules (if not already imported)\n",
    "import matplotlib.pyplot as plt\n",
    "\n",
    "# Set font size\n",
    "plt.rcParams['font.size']=24\n",
    "\n",
    "# Define figure\n",
    "fig, ax = plt.subplots(figsize=(9, 6), subplot_kw=dict(aspect=\"equal\"))\n",
    "\n",
    "# Get count by sentiment category from tweets_df\n",
    "sentiment_counts = tweets_df1.Sentiment.value_counts()\n",
    "labels = sentiment_counts.index\n",
    "\n",
    "# Define colors\n",
    "color_palette_list = ['lightgreen', 'purple', 'red','orange']\n",
    "\n",
    "# Generate graph components\n",
    "wedges, texts, autotexts = ax.pie(sentiment_counts, wedgeprops=dict(width=0.5), startangle=-40,  \n",
    "       colors=color_palette_list[0:3], autopct='%1.0f%%', pctdistance=.75, textprops={'color':\"w\", 'weight':'bold'})\n",
    "\n",
    "# Plot wedges\n",
    "for i, p in enumerate(wedges):\n",
    "    ang = (p.theta2 - p.theta1)/2. + p.theta1\n",
    "    y = np.sin(np.deg2rad(ang))\n",
    "    x = np.cos(np.deg2rad(ang))\n",
    "    horizontalalignment = {-1: \"right\", 1: \"left\"}[int(np.sign(x))]\n",
    "    connectionstyle = \"angle,angleA=0,angleB={}\".format(ang)\n",
    "    ax.annotate(labels[i], xy=(x, y), xytext=(1.2*x, 1.2*y),\n",
    "                horizontalalignment=horizontalalignment)\n",
    "# Set title\n",
    "ax.set_title(\"Sentiment Distribution\", y=.95, fontsize = 24)\n",
    "\n",
    "# Show Donut Chart\n",
    "plt.show()"
   ]
  },
  {
   "cell_type": "code",
   "execution_count": null,
   "metadata": {},
   "outputs": [],
   "source": [
    "tweets = tweets_df1"
   ]
  },
  {
   "cell_type": "code",
   "execution_count": null,
   "metadata": {},
   "outputs": [],
   "source": [
    "import math\n",
    "tweets['day'] = [one.date() for one in tweets['Datetime']]\n",
    "tweets = tweets.sort_values(by=['day'])\n",
    "\n",
    "sentiments = [\"Positive\", \"Neutral\", \"Negative\"]\n",
    "positiveProps = (tweets[tweets.Sentiment == 'Positive'].groupby(['day']).count()[['Sentiment']]/ tweets.groupby(['day']).count()[['Sentiment']])*100\n",
    "neutralProps = (tweets[tweets.Sentiment == 'Neutral'].groupby(['day']).count()[['Sentiment']]/ tweets.groupby(['day']).count()[['Sentiment']])*100\n",
    "negativeProps = (tweets[tweets.Sentiment == 'Negative'].groupby(['day']).count()[['Sentiment']]/ tweets.groupby(['day']).count()[['Sentiment']])*100\n",
    " \n",
    "positiveProps = positiveProps['Sentiment'].tolist()\n",
    "neutralProps = neutralProps['Sentiment'].tolist()\n",
    "negativeProps = negativeProps['Sentiment'].tolist()\n",
    "plt.figure(figsize=[16, 5])\n",
    "barWidth = 0.5\n",
    "labels = tweets.day.unique()\n",
    "r = np.arange(len(labels))\n",
    "positiveProps = [0 if math.isnan(x) else x for x in positiveProps]\n",
    "neutralProps = [0 if math.isnan(x) else x for x in neutralProps]\n",
    "negativeProps = [0 if math.isnan(x) else x for x in negativeProps]\n",
    "\n",
    "plt.bar(r,positiveProps, color='lightgreen', edgecolor='white', width=barWidth)\n",
    "plt.bar(r, neutralProps, bottom=positiveProps, color='skyblue', edgecolor='white', width=barWidth)\n",
    "plt.bar(r, negativeProps, bottom=[i+j for i,j in zip(positiveProps, neutralProps)], color='orange', edgecolor='white', width=barWidth)\n",
    " \n",
    "plt.xticks(r, labels, rotation = 45, fontsize=12)\n",
    "plt.yticks(fontsize=16)\n",
    "plt.suptitle('Sentiment Distribution over Time')\n",
    "plt.xlabel(\"Date\", fontsize=18)\n",
    "plt.ylabel(\"Share\", fontsize=20)\n",
    "plt.legend(sentiments)\n",
    "plt.show()\n",
    "# Sort by Index again\n",
    "tweets.sort_index(inplace=True)"
   ]
  },
  {
   "cell_type": "code",
   "execution_count": null,
   "metadata": {},
   "outputs": [],
   "source": [
    "import numpy as np\n",
    "import re\n",
    "\n",
    "# Let's try to identify tweets that are about beer\n",
    "tweets['Wegmans'] = np.where(tweets.stripped.str.contains('(?:^|\\W)(wegmans|delivery|drinks|safety|shop)(?:$|\\W)',                                                                                                      # beer|booze|brew|bottle|pint|hops|drink|beach\n",
    "    flags = re.IGNORECASE), 1, 0)\n",
    "\n",
    "# Let's try to identify tweets that are about the virus\n",
    "tweets['Virus'] = np.where(tweets.stripped.str.contains('(?:^|\\W)(virus|covid-19|SARS-COV-2|vaccine|cough|coronavirus|mask|sick|spread|pandemic|death|covid|hospital|n95|ventilator|respiratory)(?:$|\\W)',                                                                                    # (virus|covid-19|SARS-COV-2|vaccine|cough|coronavirus|mask|sick|spread|pandemic|death|covid|hospital|n95|ventilator|respiratory)(?:$|\\W)',\n",
    "    flags = re.IGNORECASE), 1, 0)\n",
    " \n",
    "# How many tweets of each topic?\n",
    "print(f\"Total {tweets['Wegmans'].count()}\")\n",
    "print(f\"Wegmans {tweets['Wegmans'].sum()}\")\n",
    "print(f\"Virus {tweets['Virus'].sum()}\")"
   ]
  },
  {
   "cell_type": "code",
   "execution_count": null,
   "metadata": {},
   "outputs": [],
   "source": [
    "pd.set_option('display.max_colwidth', None)\n",
    "tweets[['stripped','Wegmans','Virus']].tail(30) "
   ]
  },
  {
   "cell_type": "code",
   "execution_count": null,
   "metadata": {},
   "outputs": [],
   "source": [
    "select_tweets = tweets.loc[tweets['Virus'] == 1, 'stripped'].values[:]\n",
    "for w in select_tweets[3:13]:\n",
    "    print(w)\n",
    "    print('\\n')"
   ]
  },
  {
   "cell_type": "code",
   "execution_count": null,
   "metadata": {},
   "outputs": [],
   "source": [
    "select_tweets = tweets.loc[tweets['Wegmans'] == 1, 'stripped'].values[:]\n",
    "for w in select_tweets[3:13]:\n",
    "    print(w)\n",
    "    print('\\n')"
   ]
  },
  {
   "cell_type": "code",
   "execution_count": null,
   "metadata": {},
   "outputs": [],
   "source": [
    "# 1. Import module \n",
    "from wordcloud import WordCloud\n",
    "\n",
    "# 2. Create bag of words for tweets of certain sentiment\n",
    "all_words = ' '.join([text for text in tweets[tweets['Sentiment'] == 'Positive']['stripped']])\n",
    "\n",
    "# 3. Generate Word Cloud\n",
    "wordcloud = WordCloud(collocations=True, width=800, height=500, random_state=5, max_font_size=110).generate(all_words)\n",
    "\n",
    "# 4. Visulaize Cloud\n",
    "plt.figure(figsize=(20, 10))\n",
    "plt.imshow(wordcloud, interpolation=\"bilinear\")\n",
    "plt.axis('off')\n",
    "plt.show()"
   ]
  },
  {
   "cell_type": "code",
   "execution_count": null,
   "metadata": {},
   "outputs": [],
   "source": []
  },
  {
   "cell_type": "code",
   "execution_count": null,
   "metadata": {},
   "outputs": [],
   "source": []
  },
  {
   "cell_type": "code",
   "execution_count": null,
   "metadata": {},
   "outputs": [],
   "source": []
  },
  {
   "cell_type": "code",
   "execution_count": null,
   "metadata": {},
   "outputs": [],
   "source": []
  },
  {
   "cell_type": "code",
   "execution_count": null,
   "metadata": {},
   "outputs": [],
   "source": []
  },
  {
   "cell_type": "code",
   "execution_count": null,
   "metadata": {},
   "outputs": [],
   "source": []
  },
  {
   "cell_type": "code",
   "execution_count": null,
   "metadata": {},
   "outputs": [],
   "source": []
  },
  {
   "cell_type": "code",
   "execution_count": null,
   "metadata": {},
   "outputs": [],
   "source": []
  },
  {
   "cell_type": "code",
   "execution_count": null,
   "metadata": {},
   "outputs": [],
   "source": []
  },
  {
   "cell_type": "code",
   "execution_count": null,
   "metadata": {},
   "outputs": [],
   "source": []
  },
  {
   "cell_type": "code",
   "execution_count": null,
   "metadata": {},
   "outputs": [],
   "source": []
  }
 ],
 "metadata": {
  "kernelspec": {
   "display_name": "Python 3",
   "language": "python",
   "name": "python3"
  },
  "language_info": {
   "codemirror_mode": {
    "name": "ipython",
    "version": 3
   },
   "file_extension": ".py",
   "mimetype": "text/x-python",
   "name": "python",
   "nbconvert_exporter": "python",
   "pygments_lexer": "ipython3",
   "version": "3.8.5"
  }
 },
 "nbformat": 4,
 "nbformat_minor": 4
}
